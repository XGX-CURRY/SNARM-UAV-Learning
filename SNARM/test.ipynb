{
 "cells": [
  {
   "cell_type": "code",
   "execution_count": 5,
   "id": "5592cf20",
   "metadata": {
    "scrolled": true
   },
   "outputs": [
    {
     "data": {
      "text/plain": [
       "0"
      ]
     },
     "execution_count": 5,
     "metadata": {},
     "output_type": "execute_result"
    }
   ],
   "source": [
    "a = 1\n",
    "b = 0\n",
    "c = 0\n",
    "d = 0\n",
    "# a & b & c\n",
    "# a && b && c\n",
    "# a | b | c\n",
    "# a || b || c"
   ]
  },
  {
   "cell_type": "code",
   "execution_count": 1,
   "id": "314151af",
   "metadata": {},
   "outputs": [
    {
     "name": "stdout",
     "output_type": "stream",
     "text": [
      "CCHHIINAA"
     ]
    }
   ],
   "source": [
    "for i in \"CHINA\":\n",
    "    for k in range(2):\n",
    "        print(i,end=\"\")\n",
    "        if i =='N':\n",
    "            break"
   ]
  },
  {
   "cell_type": "code",
   "execution_count": null,
   "id": "1eeb7691",
   "metadata": {},
   "outputs": [],
   "source": [
    " "
   ]
  }
 ],
 "metadata": {
  "kernelspec": {
   "display_name": "Python 3 (ipykernel)",
   "language": "python",
   "name": "python3"
  },
  "language_info": {
   "codemirror_mode": {
    "name": "ipython",
    "version": 3
   },
   "file_extension": ".py",
   "mimetype": "text/x-python",
   "name": "python",
   "nbconvert_exporter": "python",
   "pygments_lexer": "ipython3",
   "version": "3.7.4"
  }
 },
 "nbformat": 4,
 "nbformat_minor": 5
}
